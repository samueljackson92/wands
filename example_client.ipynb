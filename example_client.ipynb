{
 "cells": [
  {
   "cell_type": "code",
   "execution_count": 1,
   "metadata": {},
   "outputs": [],
   "source": [
    "from wands import RandomData, AdiosWands\n",
    "\n",
    "#generate Data\n",
    "data = RandomData([2,4])\n",
    "\n",
    "params={\n",
    "    \"IPAddress\": \"127.0.0.1\",\n",
    "    \"Port\": \"12306\",\n",
    "    \"Timeout\": \"5\",\n",
    "    \"TransportMode\": \"reliable\", \n",
    "}\n",
    "\n",
    "ads = AdiosWands(link=\"DeclaredIO2\", parameters=params)\n",
    "receiveddata = ads.receive(\"IO2\",\"testdata\", data)\n",
    "\n",
    "print(receiveddata)"
   ]
  }
 ],
 "metadata": {
  "kernelspec": {
   "display_name": "adios2py",
   "language": "python",
   "name": "python3"
  },
  "language_info": {
   "codemirror_mode": {
    "name": "ipython",
    "version": 3
   },
   "file_extension": ".py",
   "mimetype": "text/x-python",
   "name": "python",
   "nbconvert_exporter": "python",
   "pygments_lexer": "ipython3",
   "version": "3.11.0"
  },
  "orig_nbformat": 4,
  "vscode": {
   "interpreter": {
    "hash": "a0db4a15088eb8ce89507f26dc070061897a95d62ae4e6453334ebf497d61938"
   }
  }
 },
 "nbformat": 4,
 "nbformat_minor": 2
}
