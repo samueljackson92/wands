{
 "cells": [
  {
   "cell_type": "code",
   "execution_count": 2,
   "metadata": {},
   "outputs": [
    {
     "ename": "AttributeError",
     "evalue": "'RandomData' object has no attribute 'str'",
     "output_type": "error",
     "traceback": [
      "\u001b[0;31m---------------------------------------------------------------------------\u001b[0m",
      "\u001b[0;31mAttributeError\u001b[0m                            Traceback (most recent call last)",
      "Cell \u001b[0;32mIn[2], line 5\u001b[0m\n\u001b[1;32m      3\u001b[0m \u001b[39m#generate Data\u001b[39;00m\n\u001b[1;32m      4\u001b[0m data \u001b[39m=\u001b[39m RandomData([\u001b[39m2\u001b[39m,\u001b[39m4\u001b[39m])\n\u001b[0;32m----> 5\u001b[0m \u001b[39mprint\u001b[39m(data\u001b[39m.\u001b[39;49mstr())\n\u001b[1;32m      7\u001b[0m params\u001b[39m=\u001b[39m{\n\u001b[1;32m      8\u001b[0m     \u001b[39m\"\u001b[39m\u001b[39mIPAddress\u001b[39m\u001b[39m\"\u001b[39m: \u001b[39m\"\u001b[39m\u001b[39m127.0.0.1\u001b[39m\u001b[39m\"\u001b[39m,\n\u001b[1;32m      9\u001b[0m     \u001b[39m\"\u001b[39m\u001b[39mPort\u001b[39m\u001b[39m\"\u001b[39m: \u001b[39m\"\u001b[39m\u001b[39m12306\u001b[39m\u001b[39m\"\u001b[39m,\n\u001b[1;32m     10\u001b[0m     \u001b[39m\"\u001b[39m\u001b[39mTimeout\u001b[39m\u001b[39m\"\u001b[39m: \u001b[39m\"\u001b[39m\u001b[39m5\u001b[39m\u001b[39m\"\u001b[39m,\n\u001b[1;32m     11\u001b[0m     \u001b[39m\"\u001b[39m\u001b[39mTransportMode\u001b[39m\u001b[39m\"\u001b[39m: \u001b[39m\"\u001b[39m\u001b[39mreliable\u001b[39m\u001b[39m\"\u001b[39m, \n\u001b[1;32m     12\u001b[0m }\n\u001b[1;32m     14\u001b[0m ads \u001b[39m=\u001b[39m AdiosWands(link\u001b[39m=\u001b[39m\u001b[39m\"\u001b[39m\u001b[39mDeclaredIO1\u001b[39m\u001b[39m\"\u001b[39m, parameters\u001b[39m=\u001b[39mparams)\n",
      "\u001b[0;31mAttributeError\u001b[0m: 'RandomData' object has no attribute 'str'"
     ]
    }
   ],
   "source": [
    "from wands import RandomData, AdiosWands\n",
    "\n",
    "#generate Data\n",
    "data = RandomData([2,4])\n",
    "print(str(data))\n",
    "\n",
    "params={\n",
    "    \"IPAddress\": \"127.0.0.1\",\n",
    "    \"Port\": \"12306\",\n",
    "    \"Timeout\": \"5\",\n",
    "    \"TransportMode\": \"reliable\", \n",
    "}\n",
    "\n",
    "ads = AdiosWands(link=\"DeclaredIO1\", parameters=params)\n",
    "ads.send(\"IO1\",\"testdata\", data.get_numpy_array())"
   ]
  },
  {
   "cell_type": "markdown",
   "metadata": {},
   "source": []
  }
 ],
 "metadata": {
  "kernelspec": {
   "display_name": "adios2py",
   "language": "python",
   "name": "python3"
  },
  "language_info": {
   "codemirror_mode": {
    "name": "ipython",
    "version": 3
   },
   "file_extension": ".py",
   "mimetype": "text/x-python",
   "name": "python",
   "nbconvert_exporter": "python",
   "pygments_lexer": "ipython3",
   "version": "3.11.0"
  },
  "orig_nbformat": 4,
  "vscode": {
   "interpreter": {
    "hash": "a0db4a15088eb8ce89507f26dc070061897a95d62ae4e6453334ebf497d61938"
   }
  }
 },
 "nbformat": 4,
 "nbformat_minor": 2
}
